{
 "cells": [
  {
   "cell_type": "markdown",
   "metadata": {},
   "source": [
    "# Introduction/Business Problem\n",
    "\n",
    "Traffic accidents are a significant source of deaths, injuries, property damage, and a major concern for public health and traffic safety. This capstone project is trying to predict for severity of road traffic accident. In other words, if you are a driver, you will be able to predict for possibility of you getting into a car accident and how severe it would be given the weather and the road conditions. So that you would drive more carefully or even change your travel if you are able to."
   ]
  },
  {
   "cell_type": "markdown",
   "metadata": {},
   "source": [
    "# Data\n",
    "The data we will use for this capstone project includes the locations and attributes of collisions that occur within Seattle. All collisions were provided by SPD and recorded by Traffic Records for 2004 to present. This includes all types of collisions, and there are 194,673 data points in total. And the dataset include the following attributes.\n",
    "- 'SEVERITYCODE', \n",
    "- 'X', \n",
    "- 'Y', \n",
    "- 'OBJECTID', \n",
    "- 'INCKEY', \n",
    "- 'COLDETKEY', \n",
    "- 'REPORTNO',\n",
    "- 'STATUS', \n",
    "- 'ADDRTYPE', \n",
    "- 'INTKEY', \n",
    "- 'LOCATION', \n",
    "- 'EXCEPTRSNCODE',\n",
    "- 'EXCEPTRSNDESC', \n",
    "- 'SEVERITYCODE.1', \n",
    "- 'SEVERITYDESC', \n",
    "- 'COLLISIONTYPE',\n",
    "- 'PERSONCOUNT', \n",
    "- 'PEDCOUNT', \n",
    "- 'PEDCYLCOUNT',\n",
    "- 'VEHCOUNT',\n",
    "- 'INCDATE',\n",
    "- 'INCDTTM', \n",
    "- 'JUNCTIONTYPE', \n",
    "- 'SDOT_COLCODE', \n",
    "- 'SDOT_COLDESC',\n",
    "- 'INATTENTIONIND', \n",
    "- 'UNDERINFL', \n",
    "- 'WEATHER', \n",
    "- 'ROADCOND',\n",
    "- 'LIGHTCOND',\n",
    "- 'PEDROWNOTGRNT',\n",
    "- 'SDOTCOLNUM', \n",
    "- 'SPEEDING', \n",
    "- 'ST_COLCODE', \n",
    "- 'ST_COLDESC', \n",
    "- 'SEGLANEKEY', \n",
    "- 'CROSSWALKKEY', \n",
    "- 'HITPARKEDCAR'"
   ]
  },
  {
   "cell_type": "markdown",
   "metadata": {},
   "source": [
    "The target of our research project which is the accident severity is a categorical variable, so we can firstly use feature engineering to extract useful informaiton from the attributes and then fit classification models using the data."
   ]
  },
  {
   "cell_type": "markdown",
   "metadata": {},
   "source": [
    "# Methodology\n",
    "- Firstly, I examined the distribution of the target variable, which is the accident severity.\n",
    "- Secondly, I examined the correlation between accident severity and other attributes of an accident.\n",
    "- And then, I selected a few features that seems most closely related to accident severity and performed feature engineering to these features.\n",
    "- Finally, since accident severity is a binary variable, this is a binary classification problem. I fitted a logistic regression model using the data."
   ]
  },
  {
   "cell_type": "markdown",
   "metadata": {},
   "source": [
    "# Results\n",
    "I fitted the logistic regression model using attributes including 'ADDRTYPE', 'COLLISIONTYPE','JUNCTIONTYPE', 'WEATHER','ROADCOND', 'LIGHTCOND', 'HITPARKEDCAR', and cross validated the model, the average cross validation score is 0.75. "
   ]
  },
  {
   "cell_type": "markdown",
   "metadata": {},
   "source": [
    "# Discussion\n",
    "- The average cross validation score is 0.75 for the model, which means, the prediction accuracy for accident severity is 75% given the information of address type, collision type, junction type, weather, road condition, light condition, and whether the accident involves hitting parked car.\n",
    "- We can improve the prediction accuracy by adding more attributes, performing more feature engineering, or testing another model."
   ]
  },
  {
   "cell_type": "markdown",
   "metadata": {},
   "source": [
    "# Conclusion\n",
    "- In conclusion, we can use the aforementioned model to predict for the severity of road traffic accident given information of address type, collision type, junction type, weather, road condition, light condition, and whether the accident involves hitting parked car.\n",
    "- So that both of the drivers and public health department could make more informed decisions."
   ]
  }
 ],
 "metadata": {
  "kernelspec": {
   "display_name": "Python 3",
   "language": "python",
   "name": "python3"
  },
  "language_info": {
   "codemirror_mode": {
    "name": "ipython",
    "version": 3
   },
   "file_extension": ".py",
   "mimetype": "text/x-python",
   "name": "python",
   "nbconvert_exporter": "python",
   "pygments_lexer": "ipython3",
   "version": "3.7.3"
  }
 },
 "nbformat": 4,
 "nbformat_minor": 4
}
