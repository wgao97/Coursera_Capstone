{
 "cells": [
  {
   "cell_type": "markdown",
   "metadata": {},
   "source": [
    "# Data\n",
    "The data we will use for this capstone project includes the locations and attributes of collisions that occur within Seattle. All collisions were provided by SPD and recorded by Traffic Records for 2004 to present. This includes all types of collisions, and there are 194,673 data points in total. And the dataset include the following attributes.\n",
    "- 'SEVERITYCODE', \n",
    "- 'X', \n",
    "- 'Y', \n",
    "- 'OBJECTID', \n",
    "- 'INCKEY', \n",
    "- 'COLDETKEY', \n",
    "- 'REPORTNO',\n",
    "- 'STATUS', \n",
    "- 'ADDRTYPE', \n",
    "- 'INTKEY', \n",
    "- 'LOCATION', \n",
    "- 'EXCEPTRSNCODE',\n",
    "- 'EXCEPTRSNDESC', \n",
    "- 'SEVERITYCODE.1', \n",
    "- 'SEVERITYDESC', \n",
    "- 'COLLISIONTYPE',\n",
    "- 'PERSONCOUNT', \n",
    "- 'PEDCOUNT', \n",
    "- 'PEDCYLCOUNT',\n",
    "- 'VEHCOUNT',\n",
    "- 'INCDATE',\n",
    "- 'INCDTTM', \n",
    "- 'JUNCTIONTYPE', \n",
    "- 'SDOT_COLCODE', \n",
    "- 'SDOT_COLDESC',\n",
    "- 'INATTENTIONIND', \n",
    "- 'UNDERINFL', \n",
    "- 'WEATHER', \n",
    "- 'ROADCOND',\n",
    "- 'LIGHTCOND',\n",
    "- 'PEDROWNOTGRNT',\n",
    "- 'SDOTCOLNUM', \n",
    "- 'SPEEDING', \n",
    "- 'ST_COLCODE', \n",
    "- 'ST_COLDESC', \n",
    "- 'SEGLANEKEY', \n",
    "- 'CROSSWALKKEY', \n",
    "- 'HITPARKEDCAR'"
   ]
  },
  {
   "cell_type": "markdown",
   "metadata": {},
   "source": [
    "The target of our research project which is the accident severity is a categorical variable, so we can firstly use feature engineering to extract useful informaiton from the attributes and then fit classification models using the data."
   ]
  }
 ],
 "metadata": {
  "kernelspec": {
   "display_name": "Python 3",
   "language": "python",
   "name": "python3"
  },
  "language_info": {
   "codemirror_mode": {
    "name": "ipython",
    "version": 3
   },
   "file_extension": ".py",
   "mimetype": "text/x-python",
   "name": "python",
   "nbconvert_exporter": "python",
   "pygments_lexer": "ipython3",
   "version": "3.7.3"
  }
 },
 "nbformat": 4,
 "nbformat_minor": 4
}
