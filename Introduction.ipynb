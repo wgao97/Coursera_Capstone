{
 "cells": [
  {
   "cell_type": "markdown",
   "metadata": {},
   "source": [
    "# Introduction/Business Problem\n",
    "\n",
    "Traffic accidents are a significant source of deaths, injuries, property damage, and a major concern for public health and traffic safety. This capstone project is trying to predict for severity of road traffic accident. In other words, if you are a driver, you will be able to predict for possibility of you getting into a car accident and how severe it would be given the weather and the road conditions. So that you would drive more carefully or even change your travel if you are able to."
   ]
  }
 ],
 "metadata": {
  "kernelspec": {
   "display_name": "Python 3",
   "language": "python",
   "name": "python3"
  },
  "language_info": {
   "codemirror_mode": {
    "name": "ipython",
    "version": 3
   },
   "file_extension": ".py",
   "mimetype": "text/x-python",
   "name": "python",
   "nbconvert_exporter": "python",
   "pygments_lexer": "ipython3",
   "version": "3.7.3"
  }
 },
 "nbformat": 4,
 "nbformat_minor": 4
}
